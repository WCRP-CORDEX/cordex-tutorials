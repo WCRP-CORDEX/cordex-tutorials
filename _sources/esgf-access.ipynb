{
 "cells": [
  {
   "cell_type": "markdown",
   "id": "0cdf4b75-7e03-4d59-84e6-b6adb9b1cb35",
   "metadata": {},
   "source": [
    "# Accessing CORDEX datasets from ESGF"
   ]
  },
  {
   "cell_type": "markdown",
   "id": "52915ec2-0438-42d2-a210-dba8e032f855",
   "metadata": {},
   "source": [
    "In this example, we will show some ways to access ESGF data using opendap access to ESGF. We want to avoid downloading files to make our research more automatic and reproducable for others."
   ]
  },
  {
   "cell_type": "code",
   "execution_count": null,
   "id": "20f3a625-d2dc-4186-b5a8-36a8a7665dc6",
   "metadata": {},
   "outputs": [],
   "source": [
    "import os\n",
    "import xarray as xr\n",
    "import cf_xarray as cfxr\n",
    "import pyesgf\n",
    "from pyesgf.logon import LogonManager\n",
    "from pyesgf.search import SearchConnection\n",
    "\n",
    "lm = LogonManager(verify=True)\n",
    "\n",
    "if not lm.is_logged_on():\n",
    "    myproxy_host = \"esgf-data.dkrz.de\"\n",
    "    lm.logon(\n",
    "        hostname=myproxy_host,\n",
    "        username=os.environ[\"ESGF_USER\"],\n",
    "        password=os.environ[\"ESGF_PASSWORD\"],\n",
    "        interactive=False,\n",
    "        bootstrap=True,\n",
    "    )\n",
    "\n",
    "\n",
    "print(f\"logged on: {lm.is_logged_on()}\")"
   ]
  },
  {
   "cell_type": "markdown",
   "id": "720ca256-97af-475d-b49c-85c08c20cd4f",
   "metadata": {},
   "source": [
    "Theoretically, we can find out the opendap URL for a CORDEX dataset by browsing through the [ESGF Web API](https://esgf-data.dkrz.de/search/cordex-dkrz/). Let's assume, we have found out the URL and want to access that dataset. We can simply use `xr.open_dataset` for this assuming we have `netcdf4` installed."
   ]
  },
  {
   "cell_type": "code",
   "execution_count": null,
   "id": "54baaa44-18f2-4516-b565-e067aa9e7bfd",
   "metadata": {},
   "outputs": [],
   "source": [
    "ds = xr.open_dataset(\n",
    "    \"http://esgf1.dkrz.de/thredds/dodsC/cordex/cordex/output/EUR-11/GERICS/ECMWF-ERAINT/evaluation/r0i0p0/GERICS-REMO2015/v1/fx/orog/v20180813/orog_EUR-11_ECMWF-ERAINT_evaluation_r0i0p0_GERICS-REMO2015_v1_fx.nc\"\n",
    ")"
   ]
  },
  {
   "cell_type": "code",
   "execution_count": null,
   "id": "605fbaef-692d-4719-9f51-b229a0f179cf",
   "metadata": {},
   "outputs": [],
   "source": [
    "ds.orog.plot()"
   ]
  },
  {
   "cell_type": "markdown",
   "id": "bd1db2fd-b026-4740-b8b4-ef8b1765b839",
   "metadata": {
    "tags": []
   },
   "source": [
    "## Search for URLs"
   ]
  },
  {
   "cell_type": "code",
   "execution_count": null,
   "id": "0c7a040d-b92d-481c-a007-2881a11d584e",
   "metadata": {},
   "outputs": [],
   "source": [
    "from dask.distributed import Client\n",
    "client = Client()\n",
    "client"
   ]
  },
  {
   "cell_type": "code",
   "execution_count": null,
   "id": "21e513e1-ebb0-46ca-9fcd-778db83adbad",
   "metadata": {},
   "outputs": [],
   "source": [
    "import requests\n",
    "import numpy\n",
    "\n",
    "\n",
    "def parse_urls(response):\n",
    "    types = {}\n",
    "    for r in response:\n",
    "        url_type = r.split(\"|\")[1]\n",
    "        if \"opendap\" in url_type:\n",
    "            types[\"opendap\"] = r.split(\"|\")[0][0:-5]\n",
    "        else:\n",
    "            types[url_type] = r.split(\"|\")[0]\n",
    "    return types\n",
    "    # return {r.split(\"|\")[1]: r.split(\"|\")[0] for r in response}\n",
    "\n",
    "\n",
    "def parse_result(response):\n",
    "    files = response.json()[\"response\"][\"docs\"]\n",
    "    # return files\n",
    "    # result = dict.fromkeys([f['dataset_id'] for f in files], {})\n",
    "    result = {f[\"dataset_id\"]: {} for f in files}\n",
    "    for f in files:\n",
    "        id = f[\"dataset_id\"]\n",
    "        urls = parse_urls(f[\"url\"])\n",
    "        for url_type, url in urls.items():\n",
    "            if url_type in result[id].keys():\n",
    "                result[id][url_type].append(url)\n",
    "            else:\n",
    "                result[id][url_type] = [url]\n",
    "        # result[id].update(urls)\n",
    "    return result\n",
    "\n",
    "\n",
    "def esgf_search(\n",
    "    url=\"https://esgf-node.llnl.gov/esg-search/search\",\n",
    "    files_type=\"OPENDAP\",\n",
    "    local_node=True,\n",
    "    project=\"CORDEX\",\n",
    "    **search,\n",
    "):\n",
    "    params = dict(\n",
    "        project=project, type=\"File\", format=\"application/solr+json\", limit=500\n",
    "    )\n",
    "    params.update(search)\n",
    "    response = requests.get(url, params)\n",
    "    return parse_result(response)"
   ]
  },
  {
   "cell_type": "code",
   "execution_count": null,
   "id": "5a4e6909-5878-4701-be7d-6a2a2922cda3",
   "metadata": {},
   "outputs": [],
   "source": [
    "result = esgf_search(\n",
    "    url=\"http://esgf-data.dkrz.de/esg-search/search\",\n",
    "    project=[\"CORDEX\", \"CORDEX-Reklies\"],\n",
    "    time_frequency=\"mon\",\n",
    "    variable=\"tas\",\n",
    "    experiment=[\"historical\", \"rcp26\", \"rcp45\", \"rcp85\"],\n",
    "    domain=\"EUR-11\",\n",
    "    ensemble=\"r1i1p1\",\n",
    ")\n",
    "len(result)"
   ]
  },
  {
   "cell_type": "code",
   "execution_count": null,
   "id": "50c76139-ffb7-48c5-9d9f-6b6564b370f0",
   "metadata": {},
   "outputs": [],
   "source": [
    "def open_mfdataset(\n",
    "    files,\n",
    "    use_cftime=True,\n",
    "    parallel=True,\n",
    "    data_vars=\"minimal\",\n",
    "    chunks={},\n",
    "    coords=\"minimal\",\n",
    "    compat=\"override\",\n",
    "    drop=None,\n",
    "    **kwargs,\n",
    "):\n",
    "    \"\"\"optimized function for opening large cf datasets.\n",
    "\n",
    "    based on https://github.com/pydata/xarray/issues/1385#issuecomment-561920115\n",
    "\n",
    "    \"\"\"\n",
    "\n",
    "    def drop_all_coords(ds):\n",
    "        # ds = ds.drop(drop)\n",
    "        return ds.reset_coords(drop=True)\n",
    "\n",
    "    ds = xr.open_mfdataset(\n",
    "        files,\n",
    "        parallel=parallel,\n",
    "        decode_times=False,\n",
    "        combine=\"by_coords\",\n",
    "        preprocess=drop_all_coords,\n",
    "        decode_cf=False,\n",
    "        chunks=chunks,\n",
    "        data_vars=data_vars,\n",
    "        coords=\"minimal\",\n",
    "        compat=\"override\",\n",
    "        **kwargs,\n",
    "    )\n",
    "    return xr.decode_cf(ds, use_cftime=use_cftime)"
   ]
  },
  {
   "cell_type": "code",
   "execution_count": null,
   "id": "3c8e3dfd-c6b8-4eab-a2ed-2416ee4c6488",
   "metadata": {},
   "outputs": [],
   "source": [
    "urls = result[\n",
    "    \"cordex.output.EUR-11.DMI.ICHEC-EC-EARTH.historical.r1i1p1.HIRHAM5.v1.mon.tas.v20190108|cordexesg.dmi.dk\"\n",
    "][\"opendap\"]\n",
    "%time ds = open_mfdataset(urls, parallel=True, chunks={})"
   ]
  },
  {
   "cell_type": "code",
   "execution_count": null,
   "id": "ad193813-ce7d-4a31-a467-5c4590b5ba07",
   "metadata": {},
   "outputs": [],
   "source": [
    "%time mean = ds.tas.groupby('time.year').mean('time').cf.mean(('X', 'Y')).compute()"
   ]
  },
  {
   "cell_type": "code",
   "execution_count": null,
   "id": "6abd5d8b-f0b5-4855-93e4-3459f8525ea2",
   "metadata": {},
   "outputs": [],
   "source": [
    "mean.plot()"
   ]
  }
 ],
 "metadata": {
  "kernelspec": {
   "display_name": "Python 3",
   "language": "python",
   "name": "python3"
  },
  "language_info": {
   "codemirror_mode": {
    "name": "ipython",
    "version": 3
   },
   "file_extension": ".py",
   "mimetype": "text/x-python",
   "name": "python",
   "nbconvert_exporter": "python",
   "pygments_lexer": "ipython3",
   "version": "3.9.15"
  }
 },
 "nbformat": 4,
 "nbformat_minor": 5
}
