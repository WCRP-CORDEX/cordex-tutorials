{
 "cells": [
  {
   "cell_type": "markdown",
   "id": "cb1f8fb6-5210-415f-9766-9ef92bd3f085",
   "metadata": {},
   "source": [
    "# AWS Access"
   ]
  },
  {
   "cell_type": "code",
   "execution_count": null,
   "id": "a43b0bc7-2c2e-4dd0-892d-e63f83100697",
   "metadata": {},
   "outputs": [],
   "source": [
    "from dask.distributed import Client\n",
    "\n",
    "client = Client()\n",
    "client"
   ]
  },
  {
   "cell_type": "code",
   "execution_count": null,
   "id": "ec672972-f62b-4ce7-9477-b378179dbbc0",
   "metadata": {},
   "outputs": [],
   "source": [
    "url = \"s3://euro-cordex/data/cordex.output.EUR-11.GERICS.ECMWF-ERAINT.evaluation.r1i1p1.REMO2015.v1.mon.tas.zarr/\""
   ]
  },
  {
   "cell_type": "markdown",
   "id": "76578631-64f0-4627-817a-40629492e58e",
   "metadata": {},
   "source": [
    "not so optimally chunked..."
   ]
  },
  {
   "cell_type": "code",
   "execution_count": null,
   "id": "19ee67ac-b82f-4b4b-8e1b-502ab68b3dd8",
   "metadata": {},
   "outputs": [],
   "source": [
    "import fsspec\n",
    "import xarray as xr\n",
    "\n",
    "ds = xr.open_zarr(\n",
    "    store=fsspec.get_mapper(url, anon=True),\n",
    "    consolidated=True,\n",
    ")\n",
    "ds"
   ]
  },
  {
   "cell_type": "code",
   "execution_count": null,
   "id": "11dfac1f-ecf0-4fab-bfb1-d41d96c3d1c7",
   "metadata": {},
   "outputs": [],
   "source": [
    "%time mean = ds.tas.groupby(\"time.year\").mean().mean((\"rlon\", \"rlat\")).compute()"
   ]
  },
  {
   "cell_type": "code",
   "execution_count": null,
   "id": "750e6beb-36be-4aa6-a72b-d311a5d06f69",
   "metadata": {},
   "outputs": [],
   "source": [
    "mean.plot()"
   ]
  },
  {
   "cell_type": "markdown",
   "id": "521c0fb6-3cac-41a1-82ed-3e0bbaf8dff8",
   "metadata": {},
   "source": [
    "chunked to approximately 100 MB per chunk..."
   ]
  },
  {
   "cell_type": "code",
   "execution_count": null,
   "id": "b341b7fb-2883-4f38-94f7-eb2c5448b56c",
   "metadata": {},
   "outputs": [],
   "source": [
    "url = \"s3://euro-cordex/chunk-test/cordex.output.EUR-11.GERICS.ECMWF-ERAINT.evaluation.r1i1p1.REMO2015.v1.mon.tas.zarr\""
   ]
  },
  {
   "cell_type": "code",
   "execution_count": null,
   "id": "ca9327b9-980c-4488-832c-f2f22667a9b5",
   "metadata": {},
   "outputs": [],
   "source": [
    "import fsspec\n",
    "import xarray as xr\n",
    "\n",
    "ds = xr.open_zarr(\n",
    "    store=fsspec.get_mapper(url, anon=True),\n",
    "    consolidated=True,\n",
    ")\n",
    "ds"
   ]
  },
  {
   "cell_type": "code",
   "execution_count": null,
   "id": "15428c6b-90e7-4da3-9198-78487022ad6b",
   "metadata": {},
   "outputs": [],
   "source": [
    "%time mean = ds.tas.groupby(\"time.year\").mean().mean((\"rlon\", \"rlat\")).compute()"
   ]
  },
  {
   "cell_type": "code",
   "execution_count": null,
   "id": "bd0d8c49-a147-44a7-b1dc-7f18ce98f46c",
   "metadata": {},
   "outputs": [],
   "source": [
    "mean.plot()"
   ]
  }
 ],
 "metadata": {
  "kernelspec": {
   "display_name": "Python 3",
   "language": "python",
   "name": "python3"
  },
  "language_info": {
   "codemirror_mode": {
    "name": "ipython",
    "version": 3
   },
   "file_extension": ".py",
   "mimetype": "text/x-python",
   "name": "python",
   "nbconvert_exporter": "python",
   "pygments_lexer": "ipython3",
   "version": "3.9.7"
  }
 },
 "nbformat": 4,
 "nbformat_minor": 5
}
