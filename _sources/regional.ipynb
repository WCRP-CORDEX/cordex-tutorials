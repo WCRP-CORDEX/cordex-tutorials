{
 "cells": [
  {
   "cell_type": "markdown",
   "id": "13878627-5613-4d26-a18c-857fc17b8878",
   "metadata": {},
   "source": [
    "# Regional means"
   ]
  },
  {
   "cell_type": "markdown",
   "id": "2a4ff53c-d31a-4794-bbfe-20aabbfc2ae4",
   "metadata": {},
   "source": [
    "This notebook should demonstrate how CORDEX datasets can be used for looking at regional and local scales. This often involves masking and averaging over a limited area of the dataset, e.g., a country or city."
   ]
  },
  {
   "cell_type": "code",
   "execution_count": null,
   "id": "09fbea99-f1de-43d9-a415-ea98bdc3f992",
   "metadata": {},
   "outputs": [],
   "source": [
    "import os\n",
    "import xarray as xr\n",
    "import numpy as np\n",
    "import cf_xarray as cfxr\n",
    "import pyesgf\n",
    "from pyesgf.logon import LogonManager\n",
    "from pyesgf.search import SearchConnection\n",
    "\n",
    "lm = LogonManager(verify=True)\n",
    "\n",
    "if not lm.is_logged_on():\n",
    "    myproxy_host = \"esgf-data.dkrz.de\"\n",
    "    # if we find those in environment, use them.\n",
    "    if \"ESGF_USER\" in os.environ and \"ESGF_PASSWORD\" in os.environ:\n",
    "        lm.logon(\n",
    "            hostname=myproxy_host,\n",
    "            username=os.environ[\"ESGF_USER\"],\n",
    "            password=os.environ[\"ESGF_PASSWORD\"],\n",
    "            interactive=False,\n",
    "            bootstrap=True,\n",
    "        )\n",
    "    else:\n",
    "        lm.logon(\n",
    "            hostname=myproxy_host,\n",
    "            interactive=True,\n",
    "            bootstrap=True,\n",
    "        )\n",
    "\n",
    "print(f\"logged on: {lm.is_logged_on()}\")"
   ]
  },
  {
   "cell_type": "code",
   "execution_count": null,
   "id": "dc33374b-b617-4170-bc60-5bfb6c783852",
   "metadata": {},
   "outputs": [],
   "source": [
    "hist_urls = [\n",
    "    \"http://esgf1.dkrz.de/thredds/dodsC/cordex-reklies/output/EUR-11/CLMcom/MIROC-MIROC5/historical/r1i1p1/CLMcom-CCLM4-8-17/v1/mon/tas/v20171121/tas_EUR-11_MIROC-MIROC5_historical_r1i1p1_CLMcom-CCLM4-8-17_v1_mon_195001-195012.nc\",\n",
    "    \"http://esgf1.dkrz.de/thredds/dodsC/cordex-reklies/output/EUR-11/CLMcom/MIROC-MIROC5/historical/r1i1p1/CLMcom-CCLM4-8-17/v1/mon/tas/v20171121/tas_EUR-11_MIROC-MIROC5_historical_r1i1p1_CLMcom-CCLM4-8-17_v1_mon_195101-196012.nc\",\n",
    "    \"http://esgf1.dkrz.de/thredds/dodsC/cordex-reklies/output/EUR-11/CLMcom/MIROC-MIROC5/historical/r1i1p1/CLMcom-CCLM4-8-17/v1/mon/tas/v20171121/tas_EUR-11_MIROC-MIROC5_historical_r1i1p1_CLMcom-CCLM4-8-17_v1_mon_196101-197012.nc\",\n",
    "    \"http://esgf1.dkrz.de/thredds/dodsC/cordex-reklies/output/EUR-11/CLMcom/MIROC-MIROC5/historical/r1i1p1/CLMcom-CCLM4-8-17/v1/mon/tas/v20171121/tas_EUR-11_MIROC-MIROC5_historical_r1i1p1_CLMcom-CCLM4-8-17_v1_mon_197101-198012.nc\",\n",
    "    \"http://esgf1.dkrz.de/thredds/dodsC/cordex-reklies/output/EUR-11/CLMcom/MIROC-MIROC5/historical/r1i1p1/CLMcom-CCLM4-8-17/v1/mon/tas/v20171121/tas_EUR-11_MIROC-MIROC5_historical_r1i1p1_CLMcom-CCLM4-8-17_v1_mon_198101-199012.nc\",\n",
    "    \"http://esgf1.dkrz.de/thredds/dodsC/cordex-reklies/output/EUR-11/CLMcom/MIROC-MIROC5/historical/r1i1p1/CLMcom-CCLM4-8-17/v1/mon/tas/v20171121/tas_EUR-11_MIROC-MIROC5_historical_r1i1p1_CLMcom-CCLM4-8-17_v1_mon_199101-200012.nc\",\n",
    "    \"http://esgf1.dkrz.de/thredds/dodsC/cordex-reklies/output/EUR-11/CLMcom/MIROC-MIROC5/historical/r1i1p1/CLMcom-CCLM4-8-17/v1/mon/tas/v20171121/tas_EUR-11_MIROC-MIROC5_historical_r1i1p1_CLMcom-CCLM4-8-17_v1_mon_200101-200512.nc\",\n",
    "]\n",
    "\n",
    "\n",
    "rcp85_urls = [\n",
    "    \"http://esgf1.dkrz.de/thredds/dodsC/cordex-reklies/output/EUR-11/CLMcom/MIROC-MIROC5/rcp85/r1i1p1/CLMcom-CCLM4-8-17/v1/mon/tas/v20171121/tas_EUR-11_MIROC-MIROC5_rcp85_r1i1p1_CLMcom-CCLM4-8-17_v1_mon_200601-201012.nc\",\n",
    "    \"http://esgf1.dkrz.de/thredds/dodsC/cordex-reklies/output/EUR-11/CLMcom/MIROC-MIROC5/rcp85/r1i1p1/CLMcom-CCLM4-8-17/v1/mon/tas/v20171121/tas_EUR-11_MIROC-MIROC5_rcp85_r1i1p1_CLMcom-CCLM4-8-17_v1_mon_201101-202012.nc\",\n",
    "    \"http://esgf1.dkrz.de/thredds/dodsC/cordex-reklies/output/EUR-11/CLMcom/MIROC-MIROC5/rcp85/r1i1p1/CLMcom-CCLM4-8-17/v1/mon/tas/v20171121/tas_EUR-11_MIROC-MIROC5_rcp85_r1i1p1_CLMcom-CCLM4-8-17_v1_mon_202101-203012.nc\",\n",
    "    \"http://esgf1.dkrz.de/thredds/dodsC/cordex-reklies/output/EUR-11/CLMcom/MIROC-MIROC5/rcp85/r1i1p1/CLMcom-CCLM4-8-17/v1/mon/tas/v20171121/tas_EUR-11_MIROC-MIROC5_rcp85_r1i1p1_CLMcom-CCLM4-8-17_v1_mon_203101-204012.nc\",\n",
    "    \"http://esgf1.dkrz.de/thredds/dodsC/cordex-reklies/output/EUR-11/CLMcom/MIROC-MIROC5/rcp85/r1i1p1/CLMcom-CCLM4-8-17/v1/mon/tas/v20171121/tas_EUR-11_MIROC-MIROC5_rcp85_r1i1p1_CLMcom-CCLM4-8-17_v1_mon_204101-205012.nc\",\n",
    "    \"http://esgf1.dkrz.de/thredds/dodsC/cordex-reklies/output/EUR-11/CLMcom/MIROC-MIROC5/rcp85/r1i1p1/CLMcom-CCLM4-8-17/v1/mon/tas/v20171121/tas_EUR-11_MIROC-MIROC5_rcp85_r1i1p1_CLMcom-CCLM4-8-17_v1_mon_205101-206012.nc\",\n",
    "    \"http://esgf1.dkrz.de/thredds/dodsC/cordex-reklies/output/EUR-11/CLMcom/MIROC-MIROC5/rcp85/r1i1p1/CLMcom-CCLM4-8-17/v1/mon/tas/v20171121/tas_EUR-11_MIROC-MIROC5_rcp85_r1i1p1_CLMcom-CCLM4-8-17_v1_mon_206101-207012.nc\",\n",
    "    \"http://esgf1.dkrz.de/thredds/dodsC/cordex-reklies/output/EUR-11/CLMcom/MIROC-MIROC5/rcp85/r1i1p1/CLMcom-CCLM4-8-17/v1/mon/tas/v20171121/tas_EUR-11_MIROC-MIROC5_rcp85_r1i1p1_CLMcom-CCLM4-8-17_v1_mon_207101-208012.nc\",\n",
    "    \"http://esgf1.dkrz.de/thredds/dodsC/cordex-reklies/output/EUR-11/CLMcom/MIROC-MIROC5/rcp85/r1i1p1/CLMcom-CCLM4-8-17/v1/mon/tas/v20171121/tas_EUR-11_MIROC-MIROC5_rcp85_r1i1p1_CLMcom-CCLM4-8-17_v1_mon_208101-209012.nc\",\n",
    "    \"http://esgf1.dkrz.de/thredds/dodsC/cordex-reklies/output/EUR-11/CLMcom/MIROC-MIROC5/rcp85/r1i1p1/CLMcom-CCLM4-8-17/v1/mon/tas/v20171121/tas_EUR-11_MIROC-MIROC5_rcp85_r1i1p1_CLMcom-CCLM4-8-17_v1_mon_209101-210012.nc\",\n",
    "]"
   ]
  },
  {
   "cell_type": "code",
   "execution_count": null,
   "id": "d7687f04-9ec1-4f31-808c-7d49ea50ebed",
   "metadata": {},
   "outputs": [],
   "source": [
    "%time ds = xr.open_mfdataset(\n",
    "    hist_urls + rcp85_urls,\n",
    "    chunks={},\n",
    "    parallel=False,\n",
    "    combine=\"by_coords\",\n",
    "    data_vars=\"minimal\",\n",
    "    coords=\"minimal\",\n",
    "    compat=\"override\",\n",
    ").load()"
   ]
  },
  {
   "cell_type": "markdown",
   "id": "939be230-a67c-42c7-9dd6-45298bee5ccc",
   "metadata": {},
   "source": [
    "We are interested in looking at the change in the temperature with respect to the reference period from 1981 to 2010."
   ]
  },
  {
   "cell_type": "code",
   "execution_count": null,
   "id": "7c6e2003-f625-4e66-9de8-c89a37a16fbb",
   "metadata": {},
   "outputs": [],
   "source": [
    "ds_change = ds.drop(\"time_bnds\").copy()\n",
    "%time ds_change[\"tas\"] = ds_change.tas - ds_change.tas.sel(time=slice(\"1981\", \"2010\")).mean(\n",
    "    \"time\"\n",
    ")"
   ]
  },
  {
   "cell_type": "code",
   "execution_count": null,
   "id": "6e04f394-fdcf-484e-9e57-afc29dbd5739",
   "metadata": {},
   "outputs": [],
   "source": [
    "ds_change"
   ]
  },
  {
   "cell_type": "markdown",
   "id": "b1e11377-4c6c-43b5-b3a5-34f56daf6a58",
   "metadata": {},
   "source": [
    "Define a plotting function"
   ]
  },
  {
   "cell_type": "code",
   "execution_count": null,
   "id": "6b4779b8-c853-4206-b819-70e1e0ac8964",
   "metadata": {},
   "outputs": [],
   "source": [
    "import cartopy.crs as ccrs\n",
    "\n",
    "\n",
    "def plot(\n",
    "    da,\n",
    "    transform=ccrs.PlateCarree(),\n",
    "    projection=ccrs.PlateCarree(),\n",
    "    vmin=None,\n",
    "    vmax=None,\n",
    "    cmap=None,\n",
    "    borders=True,\n",
    "    xlocs=range(-180, 180, 2),\n",
    "    ylocs=range(-90, 90, 2),\n",
    "    extent=None,\n",
    "    figsize=(15, 10),\n",
    "    title=None,\n",
    "):\n",
    "    \"\"\"plot a domain using the right projections and transformations with cartopy\"\"\"\n",
    "    import cartopy.feature as cf\n",
    "    import matplotlib.pyplot as plt\n",
    "\n",
    "    plt.figure(figsize=figsize)\n",
    "    ax = plt.axes(projection=projection)\n",
    "    if extent:\n",
    "        # ax.set_extent([ds_sub.rlon.min(), ds_sub.rlon.max(), ds_sub.rlat.min(), ds_sub.rlat.max()], crs=transform)\n",
    "        ax.set_extent(extent, crs=projection)\n",
    "    ax.gridlines(\n",
    "        draw_labels=True, linewidth=0.5, color=\"gray\", xlocs=xlocs, ylocs=ylocs\n",
    "    )\n",
    "    da.plot(ax=ax, cmap=cmap, transform=transform, vmin=vmin, vmax=vmax)\n",
    "    ax.coastlines(resolution=\"50m\", color=\"black\", linewidth=1)\n",
    "    if borders:\n",
    "        ax.add_feature(cf.BORDERS)\n",
    "    if title is not None:\n",
    "        ax.set_title(title)"
   ]
  },
  {
   "cell_type": "markdown",
   "id": "0e3fe04a-aa07-4602-9db3-32c9ef71c541",
   "metadata": {},
   "source": [
    "## Masking with `regionmask`"
   ]
  },
  {
   "cell_type": "code",
   "execution_count": null,
   "id": "12a42737-ef53-4a80-84f9-b7235696eff2",
   "metadata": {},
   "outputs": [],
   "source": [
    "import regionmask"
   ]
  },
  {
   "cell_type": "code",
   "execution_count": null,
   "id": "0b33d5bb-c656-41de-bae8-9c79c0863706",
   "metadata": {},
   "outputs": [],
   "source": [
    "prudence = regionmask.defined_regions.prudence\n",
    "prudence"
   ]
  },
  {
   "cell_type": "markdown",
   "id": "27ffeec4-ba58-44d7-8cf1-44fc8584431e",
   "metadata": {},
   "source": [
    "Let's have a look at those regions:"
   ]
  },
  {
   "cell_type": "code",
   "execution_count": null,
   "id": "cfc85a19-06c7-4496-ae4f-ed3e2f5f2cd6",
   "metadata": {},
   "outputs": [],
   "source": [
    "import matplotlib.pyplot as plt\n",
    "from cartopy import crs as ccrs\n",
    "\n",
    "plt.rcParams[\"figure.figsize\"] = (20, 10)\n",
    "pole = (\n",
    "    ds.rotated_pole.grid_north_pole_longitude,\n",
    "    ds.rotated_pole.grid_north_pole_latitude,\n",
    ")\n",
    "proj = ccrs.RotatedPole(*pole)\n",
    "ax = prudence.plot(\n",
    "    add_ocean=True,\n",
    "    projection=proj,\n",
    "    resolution=\"50m\",\n",
    "    label=\"name\",\n",
    "    line_kws=dict(lw=0.75),\n",
    ")"
   ]
  },
  {
   "cell_type": "markdown",
   "id": "1df13df5-f208-4598-aa19-116a89f3fac2",
   "metadata": {},
   "source": [
    "Create a mask for each region that fits our dataset coordinates."
   ]
  },
  {
   "cell_type": "code",
   "execution_count": null,
   "id": "5fc44a3e-efca-4bec-89b3-a6202d6cfc7a",
   "metadata": {},
   "outputs": [],
   "source": [
    "mask_prudence = prudence.mask_3D(ds.lon, ds.lat)"
   ]
  },
  {
   "cell_type": "markdown",
   "id": "ab64325c-f4d9-4f4a-9823-47f33c8a6581",
   "metadata": {},
   "source": [
    "We can now use the mask to only look at a certain region, e.g."
   ]
  },
  {
   "cell_type": "code",
   "execution_count": null,
   "id": "0e260810-91f6-4c92-bbd8-cbd938497547",
   "metadata": {},
   "outputs": [],
   "source": [
    "me_tas = ds.tas.isel(time=0).where(\n",
    "    mask_prudence.isel(region=(mask_prudence.names == \"Mid-Europe\")).squeeze(),\n",
    "    drop=True,\n",
    ")\n",
    "plot(\n",
    "    me_tas - 273.5,\n",
    "    transform=ccrs.RotatedPole(*pole),\n",
    "    projection=ccrs.RotatedPole(*pole),\n",
    ")"
   ]
  },
  {
   "cell_type": "markdown",
   "id": "dd773440-7a2e-4d87-b17c-872ca9581ce6",
   "metadata": {},
   "source": [
    "Let's compute a spatial average over each region to compare the changes between them"
   ]
  },
  {
   "cell_type": "code",
   "execution_count": null,
   "id": "9c917306-fe39-4cdd-a703-a1e41cc42ff1",
   "metadata": {},
   "outputs": [],
   "source": [
    "weights = np.cos(np.deg2rad(ds.rlat))\n",
    "%time tas_change_regional = ds_change.tas.weighted(mask_prudence * weights).mean(\n",
    "    dim=(\"rlat\", \"rlon\")\n",
    ")"
   ]
  },
  {
   "cell_type": "markdown",
   "id": "e24b9102-4552-4eed-8fb9-92776f923f45",
   "metadata": {},
   "source": [
    "The computation so far was done [lazily](https://docs.xarray.dev/en/stable/user-guide/dask.html). Before plotting, we will explictly trigger the compuation here."
   ]
  },
  {
   "cell_type": "code",
   "execution_count": null,
   "id": "9923144c-020c-44f5-9b86-8227a29493ce",
   "metadata": {},
   "outputs": [],
   "source": [
    "tas_change_regional.to_netcdf(\"tas_change_regional.nc\")"
   ]
  },
  {
   "cell_type": "markdown",
   "id": "d212d197-1a08-4294-b077-0f98605a42c0",
   "metadata": {},
   "source": [
    "Let's look at the change in yearly means for each region! We will use a rolling mean over the climatic timescale of 30 years."
   ]
  },
  {
   "cell_type": "code",
   "execution_count": null,
   "id": "c46376f1-3f4a-4560-af4a-ddc638021297",
   "metadata": {},
   "outputs": [],
   "source": [
    "tas_change_regional.groupby(\"time.year\").mean(\"time\").rolling(year=30).mean().swap_dims(\n",
    "    {\"region\": \"names\"}\n",
    ").plot(hue=\"names\")"
   ]
  },
  {
   "cell_type": "code",
   "execution_count": null,
   "id": "1269dad6-1b6a-47bd-81ec-ff46d9b048d6",
   "metadata": {},
   "outputs": [],
   "source": [
    "def get_grid(domain):\n",
    "    \"\"\"create cordex grid with bounds\n",
    "\n",
    "    workaround for https://github.com/xarray-contrib/cf-xarray/issues/360\n",
    "\n",
    "    \"\"\"\n",
    "    ds = cx.cordex_domain(domain, add_vertices=True)\n",
    "    ds = ds.assign(\n",
    "        lon_b=cfxr.bounds_to_vertices(ds.lon_vertices, \"vertices\"),\n",
    "        lat_b=cfxr.bounds_to_vertices(ds.lat_vertices, \"vertices\"),\n",
    "    ).drop((\"lon_vertices\", \"lat_vertices\"))\n",
    "    ds.lon.attrs[\"bounds\"] = \"lon_b\"\n",
    "    ds.lat.attrs[\"bounds\"] = \"lat_b\"\n",
    "    return ds\n",
    "\n",
    "\n",
    "def get_averager(grid, gdf):\n",
    "    \"\"\"create spatial averager for a grid file\"\"\"\n",
    "    return xe.SpatialAverager(grid, gdf.geometry, geom_dim_name=\"region\")"
   ]
  }
 ],
 "metadata": {
  "kernelspec": {
   "display_name": "Python 3",
   "language": "python",
   "name": "python3"
  },
  "language_info": {
   "codemirror_mode": {
    "name": "ipython",
    "version": 3
   },
   "file_extension": ".py",
   "mimetype": "text/x-python",
   "name": "python",
   "nbconvert_exporter": "python",
   "pygments_lexer": "ipython3",
   "version": "3.9"
  }
 },
 "nbformat": 4,
 "nbformat_minor": 5
}
