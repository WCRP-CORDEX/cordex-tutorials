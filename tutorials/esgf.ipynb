{
 "cells": [
  {
   "cell_type": "code",
   "execution_count": null,
   "id": "20f3a625-d2dc-4186-b5a8-36a8a7665dc6",
   "metadata": {},
   "outputs": [],
   "source": [
    "import xarray as xr\n",
    "import cf_xarray as cfxr\n",
    "import pyesgf\n",
    "from pyesgf.logon import LogonManager\n",
    "from pyesgf.search import SearchConnection\n",
    "\n",
    "print(pyesgf.__version__)\n",
    "\n",
    "lm = LogonManager()\n",
    "\n",
    "if not lm.is_logged_on():\n",
    "    myproxy_host = 'esgf-data.dkrz.de'\n",
    "    lm.logon(hostname=myproxy_host, interactive=True, bootstrap=True)\n",
    "\n",
    "\n",
    "print('logged on: {}'.format(lm.is_logged_on()))"
   ]
  },
  {
   "cell_type": "code",
   "execution_count": null,
   "id": "54baaa44-18f2-4516-b565-e067aa9e7bfd",
   "metadata": {},
   "outputs": [],
   "source": [
    "ds = xr.open_dataset('http://esgf1.dkrz.de/thredds/dodsC/cordex/cordex/output/EUR-11/GERICS/ECMWF-ERAINT/evaluation/r0i0p0/GERICS-REMO2015/v1/fx/orog/v20180813/orog_EUR-11_ECMWF-ERAINT_evaluation_r0i0p0_GERICS-REMO2015_v1_fx.nc')"
   ]
  },
  {
   "cell_type": "code",
   "execution_count": null,
   "id": "605fbaef-692d-4719-9f51-b229a0f179cf",
   "metadata": {},
   "outputs": [],
   "source": [
    "ds.orog.plot()"
   ]
  },
  {
   "cell_type": "code",
   "execution_count": null,
   "id": "21e513e1-ebb0-46ca-9fcd-778db83adbad",
   "metadata": {},
   "outputs": [],
   "source": [
    "import requests\n",
    "import xml.etree.ElementTree as ET\n",
    "import numpy\n",
    "\n",
    "# Author: Unknown\n",
    "# I got the original version from a word document published by ESGF\n",
    "# https://docs.google.com/document/d/1pxz1Kd3JHfFp8vR2JCVBfApbsHmbUQQstifhGNdc6U0/edit?usp=sharing\n",
    "\n",
    "# API AT: https://github.com/ESGF/esgf.github.io/wiki/ESGF_Search_REST_API#results-pagination\n",
    "\n",
    "def esgf_search(server=\"https://esgf-node.llnl.gov/esg-search/search\",\n",
    "                files_type=\"OPENDAP\", local_node=True, project=\"CMIP6\",\n",
    "                verbose=False, format=\"application%2Fsolr%2Bjson\",\n",
    "                use_csrf=False, **search):\n",
    "    client = requests.session()\n",
    "    payload = search\n",
    "    payload[\"project\"] = project\n",
    "    payload[\"type\"]= \"File\"\n",
    "    if local_node:\n",
    "        payload[\"distrib\"] = \"false\"\n",
    "    if use_csrf:\n",
    "        client.get(server)\n",
    "        if 'csrftoken' in client.cookies:\n",
    "            # Django 1.6 and up\n",
    "            csrftoken = client.cookies['csrftoken']\n",
    "        else:\n",
    "            # older versions\n",
    "            csrftoken = client.cookies['csrf']\n",
    "        payload[\"csrfmiddlewaretoken\"] = csrftoken\n",
    "\n",
    "    payload[\"format\"] = format\n",
    "\n",
    "    offset = 0\n",
    "    numFound = 10000\n",
    "    all_files = []\n",
    "    files_type = files_type.upper()\n",
    "    while offset < numFound:\n",
    "        payload[\"offset\"] = offset\n",
    "        url_keys = []\n",
    "        for k in payload:\n",
    "            url_keys += [\"{}={}\".format(k, payload[k])]\n",
    "\n",
    "        url = \"{}/?{}\".format(server, \"&\".join(url_keys))\n",
    "        print(url)\n",
    "        r = client.get(url)\n",
    "        r.raise_for_status()\n",
    "        resp = r.json()[\"response\"]\n",
    "        return resp\n",
    "        numFound = int(resp[\"numFound\"])\n",
    "        resp = resp[\"docs\"]\n",
    "        offset += len(resp)\n",
    "        for d in resp:\n",
    "            if verbose:\n",
    "                for k in d:\n",
    "                    print(\"{}: {}\".format(k,d[k]))\n",
    "            url = d[\"url\"]\n",
    "            for f in d[\"url\"]:\n",
    "                sp = f.split(\"|\")\n",
    "                if sp[-1] == files_type:\n",
    "                    all_files.append(sp[0].split(\".html\")[0])\n",
    "    return sorted(all_files)\n",
    "\n",
    "\n",
    "def parse_urls(response):\n",
    "    types = {}\n",
    "    for r in response:\n",
    "        url_type = r.split(\"|\")[1]\n",
    "        if \"opendap\" in url_type:\n",
    "            types[\"opendap\"] = r.split(\"|\")[0][0:-5]\n",
    "        else:\n",
    "            types[url_type] = r.split(\"|\")[0]   \n",
    "    return types   \n",
    "    #return {r.split(\"|\")[1]: r.split(\"|\")[0] for r in response}\n",
    "\n",
    "\n",
    "def parse_result(response):\n",
    "    files = response.json()['response']['docs']\n",
    "    #return files\n",
    "    #result = dict.fromkeys([f['dataset_id'] for f in files], {})\n",
    "    result = {f['dataset_id']: {} for f in files}\n",
    "    for f in files:\n",
    "        id = f['dataset_id']\n",
    "        urls = parse_urls(f['url'])\n",
    "        for url_type, url in urls.items():\n",
    "            if url_type in result[id].keys():\n",
    "                result[id][url_type].append(url)\n",
    "            else:\n",
    "                result[id][url_type] = [url]\n",
    "        #result[id].update(urls)\n",
    "    return result\n",
    "        \n",
    "\n",
    "def esgf_search(url=\"https://esgf-node.llnl.gov/esg-search/search\",\n",
    "                files_type=\"OPENDAP\", local_node=True, project=\"CORDEX\", **search):\n",
    "    params = dict(project=project,\n",
    "                  type=\"File\",\n",
    "                  format=\"application/solr+json\",\n",
    "                  limit=500)\n",
    "    params.update(search)\n",
    "    response = requests.get(url, params)\n",
    "    return parse_result(response)"
   ]
  },
  {
   "cell_type": "code",
   "execution_count": null,
   "id": "5a4e6909-5878-4701-be7d-6a2a2922cda3",
   "metadata": {},
   "outputs": [],
   "source": [
    "result = esgf_search(url=\"http://esgf-data.dkrz.de/esg-search/search\", project=['CORDEX', 'CORDEX-Reklies'], time_frequency='mon', \n",
    "                     variable=\"tas\", experiment=[\"historical\", \"rcp26\", \"rcp45\", \"rcp85\"], domain=\"EUR-11\", ensemble=\"r1i1p1\")\n",
    "len(result)"
   ]
  },
  {
   "cell_type": "code",
   "execution_count": null,
   "id": "8e733c78-20ce-432c-9375-e93bd310bf6a",
   "metadata": {},
   "outputs": [],
   "source": [
    "from dask.distributed import Client\n",
    "client = Client()\n",
    "client"
   ]
  },
  {
   "cell_type": "code",
   "execution_count": null,
   "id": "50c76139-ffb7-48c5-9d9f-6b6564b370f0",
   "metadata": {},
   "outputs": [],
   "source": [
    "def open_mfdataset(\n",
    "    files,\n",
    "    use_cftime=True,\n",
    "    parallel=True,\n",
    "    data_vars=\"minimal\",\n",
    "    chunks={},\n",
    "    coords=\"minimal\",\n",
    "    compat=\"override\",\n",
    "    drop=None,\n",
    "    **kwargs\n",
    "):\n",
    "    \"\"\"optimized function for opening large cf datasets.\n",
    "\n",
    "    based on https://github.com/pydata/xarray/issues/1385#issuecomment-561920115\n",
    "\n",
    "    \"\"\"\n",
    "\n",
    "    def drop_all_coords(ds):\n",
    "        # ds = ds.drop(drop)\n",
    "        return ds.reset_coords(drop=True)\n",
    "\n",
    "    ds = xr.open_mfdataset(\n",
    "        files,\n",
    "        parallel=parallel,\n",
    "        decode_times=False,\n",
    "        combine=\"by_coords\",\n",
    "        preprocess=drop_all_coords,\n",
    "        decode_cf=False,\n",
    "        chunks=chunks,\n",
    "        data_vars=data_vars,\n",
    "        coords=\"minimal\",\n",
    "        compat=\"override\",\n",
    "        **kwargs\n",
    "    )\n",
    "    return xr.decode_cf(ds, use_cftime=use_cftime)\n"
   ]
  },
  {
   "cell_type": "code",
   "execution_count": null,
   "id": "3c8e3dfd-c6b8-4eab-a2ed-2416ee4c6488",
   "metadata": {},
   "outputs": [],
   "source": [
    "urls = result[\"cordex.output.EUR-11.DMI.ICHEC-EC-EARTH.historical.r1i1p1.HIRHAM5.v1.mon.tas.v20190108|cordexesg.dmi.dk\"][\"opendap\"]\n",
    "%time ds = open_mfdataset(urls, parallel=True, chunks={})"
   ]
  },
  {
   "cell_type": "code",
   "execution_count": null,
   "id": "ad193813-ce7d-4a31-a467-5c4590b5ba07",
   "metadata": {},
   "outputs": [],
   "source": [
    "%time mean = ds.tas.groupby('time.year').mean('time').cf.mean(('X', 'Y')).compute()"
   ]
  },
  {
   "cell_type": "code",
   "execution_count": null,
   "id": "6abd5d8b-f0b5-4855-93e4-3459f8525ea2",
   "metadata": {},
   "outputs": [],
   "source": [
    "mean.plot()"
   ]
  },
  {
   "cell_type": "code",
   "execution_count": null,
   "id": "acc9c32f-c097-4a4d-81a0-f3f15559ad50",
   "metadata": {},
   "outputs": [],
   "source": [
    "%%time\n",
    "#dsets = {key: xr.open_mfdataset(urls['opendap'], parallel=True) for key, urls in result.items()}\n",
    "dsets = {}\n",
    "for dset_id, urls in result.items():\n",
    "    try:\n",
    "        print(f'opening: {dset_id}')\n",
    "        dsets[dset_id] = open_mfdataset(urls['opendap'], parallel=True)\n",
    "    except:\n",
    "        print(f'failed to open: {dset_id}')"
   ]
  },
  {
   "cell_type": "code",
   "execution_count": null,
   "id": "f329e631-cf60-4fb4-90cd-7bd1d9f77761",
   "metadata": {},
   "outputs": [],
   "source": [
    "means = xr.concat([ds.tas.groupby('time.year').mean('time').cf.mean(('X', 'Y')) for ds in dsets.values()], \n",
    "                  dim=xr.DataArray(list(dsets.keys()), dims='dset'))"
   ]
  },
  {
   "cell_type": "code",
   "execution_count": null,
   "id": "d9c83619-1a22-4904-891e-03bf4ceca1ee",
   "metadata": {},
   "outputs": [],
   "source": [
    "means"
   ]
  },
  {
   "cell_type": "code",
   "execution_count": null,
   "id": "d75775d6-eaa1-4709-b487-13cf4ba5c2a2",
   "metadata": {},
   "outputs": [],
   "source": [
    "means = xr.open_dataset('means.nc')\n",
    "\n",
    "# filter dataset id\n",
    "means[\"dset\"] = [\".\".join(str(ds.data).split(\".\")[0:10]) for ds in means.dset]"
   ]
  },
  {
   "cell_type": "code",
   "execution_count": null,
   "id": "a82cb05a-82fe-43f9-9aaa-0959e55282e2",
   "metadata": {},
   "outputs": [],
   "source": [
    "def concat_experiment(means):"
   ]
  },
  {
   "cell_type": "code",
   "execution_count": null,
   "id": "ba8ebe8d-ae77-4c33-9508-67109aee6d88",
   "metadata": {},
   "outputs": [],
   "source": [
    "rcp45 = means.where(means.dset.str.contains('rcp45'), drop=True).assign_coords(experiment = 'rcp45')\n",
    "historical = means.where(means.dset.str.contains('historical'), drop=True).assign_coords(experiment = 'historical')\n",
    "\n",
    "rcp45['dset'] = rcp45.dset.str.replace('.rcp45', '')\n",
    "historical['dset'] = historical.dset.str.replace('.historical', '')"
   ]
  },
  {
   "cell_type": "code",
   "execution_count": null,
   "id": "8a0e23c8-dc3e-44a0-a64a-4fc7bfe2f82b",
   "metadata": {},
   "outputs": [],
   "source": [
    "concat = xr.concat([historical, rcp45], dim='experiment')"
   ]
  },
  {
   "cell_type": "code",
   "execution_count": null,
   "id": "e77d0be2-0eed-4972-a14f-a9ed5c650c4f",
   "metadata": {},
   "outputs": [],
   "source": [
    "concat.tas.plot(col='dset', col_wrap=8, hue='experiment')"
   ]
  },
  {
   "cell_type": "code",
   "execution_count": null,
   "id": "7a82071b-081c-49c0-b3e3-800dc51a0ddf",
   "metadata": {},
   "outputs": [],
   "source": [
    "concat.tas.sel(experiment='historical').plot(hue=\"dset\", figsize=(20,10))\n",
    "concat.tas.sel(experiment='rcp45').plot(hue=\"dset\", figsize=(20,10))"
   ]
  },
  {
   "cell_type": "code",
   "execution_count": null,
   "id": "bdc87367-3342-48bb-98cc-d05a6e5c872f",
   "metadata": {},
   "outputs": [],
   "source": []
  },
  {
   "cell_type": "code",
   "execution_count": null,
   "id": "75fb2d6e-81db-4a22-acd2-00babe74997d",
   "metadata": {},
   "outputs": [],
   "source": []
  }
 ],
 "metadata": {
  "kernelspec": {
   "display_name": "Python [conda env:cordex-tutorials]",
   "language": "python",
   "name": "conda-env-cordex-tutorials-py"
  },
  "language_info": {
   "codemirror_mode": {
    "name": "ipython",
    "version": 3
   },
   "file_extension": ".py",
   "mimetype": "text/x-python",
   "name": "python",
   "nbconvert_exporter": "python",
   "pygments_lexer": "ipython3",
   "version": "3.10.8"
  }
 },
 "nbformat": 4,
 "nbformat_minor": 5
}
