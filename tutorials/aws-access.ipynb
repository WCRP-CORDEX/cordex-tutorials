{
 "cells": [
  {
   "cell_type": "markdown",
   "id": "cb1f8fb6-5210-415f-9766-9ef92bd3f085",
   "metadata": {},
   "source": [
    "# AWS Access"
   ]
  },
  {
   "cell_type": "code",
   "execution_count": null,
   "id": "a43b0bc7-2c2e-4dd0-892d-e63f83100697",
   "metadata": {},
   "outputs": [],
   "source": [
    "from dask.distributed import Client\n",
    "\n",
    "client = Client()\n",
    "client"
   ]
  },
  {
   "cell_type": "code",
   "execution_count": null,
   "id": "ec672972-f62b-4ce7-9477-b378179dbbc0",
   "metadata": {},
   "outputs": [],
   "source": [
    "url = \"s3://euro-cordex/data/cordex-reklies.output.EUR-11.GERICS.CCCma-CanESM2.historical.r1i1p1.REMO2015.v1.mon.tas.v20170329.zarr/\""
   ]
  },
  {
   "cell_type": "code",
   "execution_count": null,
   "id": "19ee67ac-b82f-4b4b-8e1b-502ab68b3dd8",
   "metadata": {},
   "outputs": [],
   "source": [
    "import fsspec\n",
    "import xarray as xr\n",
    "\n",
    "ds = xr.open_zarr(\n",
    "    store=fsspec.get_mapper(cordex, anon=True),\n",
    "    consolidated=True,\n",
    ")\n",
    "ds"
   ]
  },
  {
   "cell_type": "code",
   "execution_count": null,
   "id": "11dfac1f-ecf0-4fab-bfb1-d41d96c3d1c7",
   "metadata": {},
   "outputs": [],
   "source": [
    "%time mean = ds.tas.groupby(\"time.year\").mean().mean((\"rlon\", \"rlat\")).compute()\n",
    "mean.plot()"
   ]
  }
 ],
 "metadata": {
  "kernelspec": {
   "display_name": "Python 3",
   "language": "python",
   "name": "python3"
  },
  "language_info": {
   "codemirror_mode": {
    "name": "ipython",
    "version": 3
   },
   "file_extension": ".py",
   "mimetype": "text/x-python",
   "name": "python",
   "nbconvert_exporter": "python",
   "pygments_lexer": "ipython3",
   "version": "3.9.7"
  }
 },
 "nbformat": 4,
 "nbformat_minor": 5
}
